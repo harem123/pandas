{
  "nbformat": 4,
  "nbformat_minor": 0,
  "metadata": {
    "colab": {
      "provenance": [],
      "authorship_tag": "ABX9TyOovnoARwCWFyhRHyGir/pa",
      "include_colab_link": true
    },
    "kernelspec": {
      "name": "python3",
      "display_name": "Python 3"
    },
    "language_info": {
      "name": "python"
    }
  },
  "cells": [
    {
      "cell_type": "markdown",
      "metadata": {
        "id": "view-in-github",
        "colab_type": "text"
      },
      "source": [
        "<a href=\"https://colab.research.google.com/github/harem123/pandas/blob/main/consumo_cero.ipynb\" target=\"_parent\"><img src=\"https://colab.research.google.com/assets/colab-badge.svg\" alt=\"Open In Colab\"/></a>"
      ]
    },
    {
      "cell_type": "code",
      "execution_count": 25,
      "metadata": {
        "id": "SpZFzAE79pEr"
      },
      "outputs": [],
      "source": [
        "import pandas as pd\n",
        "url = 'https://raw.githubusercontent.com/harem123/pandas/main/ceros_v8.csv'\n",
        "\n",
        "df_lecturas = pd.read_csv(url, delimiter=';')\n",
        "urlconsumos = 'https://raw.githubusercontent.com/harem123/pandas/main/consumosv8'\n",
        "df_consumos = pd.read_csv(urlconsumos, delimiter=';')\n",
        "\n",
        "\n"
      ]
    },
    {
      "cell_type": "code",
      "source": [
        "#creacion del df con los consumos consolidados\n",
        "consolidate_df  = df_lecturas.iloc[[0]].copy()\n",
        "consolidate_df.loc[consolidate_df.index[0], 'Producto'] = 00000\n",
        "acumulator_df  = df_lecturas.iloc[[0]].copy()\n",
        "acumulator_df.loc[consolidate_df.index[0], 'Producto'] = 00000\n",
        "unsorted_df  = df_consumos.copy()"
      ],
      "metadata": {
        "id": "E254pCkHsXdo"
      },
      "execution_count": 26,
      "outputs": []
    },
    {
      "cell_type": "code",
      "source": [
        "#creacion del df con los consumos consolidados\n",
        "consolidate_df  = df_lecturas.iloc[[0]].copy()\n",
        "consolidate_df.loc[consolidate_df.index[0], 'Producto'] = 00000\n",
        "acumulator_df  = df_lecturas.iloc[[0]].copy()\n",
        "acumulator_df.loc[consolidate_df.index[0], 'Producto'] = 00000\n",
        "# sort and filter and summarize consumos\n",
        "\n",
        "product_base = df_lecturas['Producto'][0]\n",
        "lect_base = df_lecturas['Lectura_tomada'][0]\n",
        "fecha_base = df_lecturas['fecha_lec'][0]\n",
        "product = df_consumos['producto'] == product_base\n",
        "date_condition = df_consumos['fecha'] > fecha_base\n",
        "sorted_consumos = df_consumos.sort_values(by='fecha',ascending=True)\n",
        "descending_consumos = unsorted_df.sort_values(by='fecha',ascending=False)\n",
        "#descending_consumos.reset_index(drop=True, inplace=True)\n",
        "filtered_consumos = sorted_consumos[product & date_condition]\n",
        "filtered_descending_consumos = descending_consumos[product]\n",
        "filtered_descending_consumos.reset_index(drop=True, inplace=True)\n",
        "phu  = filtered_descending_consumos.iloc[[0]].copy()\n",
        "#last_item_in_column = filtered_descending_consumos['fecha'].iloc[-1]\n",
        "fecha_final2 = phu['fecha'][0]\n",
        "#df3 = pd.concat([df1, df2], ignore_index=True)\n",
        "sum_of_consumos = filtered_consumos['consumo'].dropna().astype(int).sum()\n",
        "lectura_final = sum_of_consumos\n",
        "acumulator_df['Producto'] = product_base\n",
        "acumulator_df['Lectura_tomada'] = lectura_final\n",
        "acumulator_df['fecha_lec'] = fecha_final2\n",
        "consolidate_df = pd.concat([consolidate_df, acumulator_df], ignore_index=True)\n",
        "\n",
        "print(consolidate_df)\n"
      ],
      "metadata": {
        "colab": {
          "base_uri": "https://localhost:8080/"
        },
        "id": "ShApJtTJfBsg",
        "outputId": "a22d0e64-07c5-4bfc-f0cf-de80844c103d"
      },
      "execution_count": 31,
      "outputs": [
        {
          "output_type": "stream",
          "name": "stdout",
          "text": [
            "   Producto  Lectura_tomada            fecha_lec\n",
            "0         0            4783  2017-11-17 09:00:00\n",
            "1   1038737           10063           2023-09-20\n"
          ]
        },
        {
          "output_type": "stream",
          "name": "stderr",
          "text": [
            "<ipython-input-31-87140a69f03e>:16: UserWarning: Boolean Series key will be reindexed to match DataFrame index.\n",
            "  filtered_consumos = sorted_consumos[product & date_condition]\n",
            "<ipython-input-31-87140a69f03e>:17: UserWarning: Boolean Series key will be reindexed to match DataFrame index.\n",
            "  filtered_descending_consumos = descending_consumos[product]\n"
          ]
        }
      ]
    },
    {
      "cell_type": "code",
      "source": [
        "#obtener por cada producto todos los consumos, ordenarlos de mas antiguo a mas reciente,\n",
        "#filtrar desde la ultima lectura valida y sumar a lectura base\n",
        "#lecturasdf.describe\n",
        "sorted_lecturas = df_lecturas.sort_values(by='fecha_lec')\n",
        "#convert column to date format\n",
        "df_consumos['Fecha_lectura'] = pd.to_datetime(df_consumos['Fecha_lectura'])\n",
        "sorted_consumos = df_consumos.sort_values(by='Fecha_lectura',ascending=True)\n",
        "print(sorted_consumos)"
      ],
      "metadata": {
        "id": "kjHuhEFxgJSh"
      },
      "execution_count": null,
      "outputs": []
    },
    {
      "cell_type": "code",
      "source": [
        "df_lecturas['fecha_lec'] = pd.to_datetime(df_lecturas['fecha_lec'])\n",
        "date_condition = df_lecturas['fecha_lec'] > '2018-1-17'\n",
        "product_condition = df_lecturas['Producto'] > 597378\n",
        "\n",
        "# Combine the conditions using the '&' (and) operator\n",
        "filtered_df = df_lecturas[date_condition ]\n",
        "print (filtered_df)"
      ],
      "metadata": {
        "id": "k5TLwMyAof_E"
      },
      "execution_count": null,
      "outputs": []
    },
    {
      "cell_type": "code",
      "source": [
        "# concat 2 df\n",
        "# df3 = pd.concat([df1, df2], ignore_index=True)"
      ],
      "metadata": {
        "id": "QrBLq7LReGdd"
      },
      "execution_count": null,
      "outputs": []
    },
    {
      "cell_type": "code",
      "source": [
        "product = df_consumos['producto'] == product_base\n",
        "date_condition = df_consumos['Fecha_lectura'] > fecha_base\n",
        "\n",
        "sorted_consumos = df_consumos.sort_values(by='Fecha_lectura',ascending=True)\n",
        "filtered_consumo = sorted_consumos[product & date_condition]\n",
        "print (filtered_consumo)"
      ],
      "metadata": {
        "id": "y78hDe0oiTg-"
      },
      "execution_count": null,
      "outputs": []
    },
    {
      "cell_type": "code",
      "source": [
        "date_condition = df_consumos['Fecha_lectura'] > fecha_base\n",
        "product_condition = df_consumos['producto'] == product_base\n",
        "\n",
        "# Combine the conditions using the '&' (and) operator\n",
        "filtered_df = df_consumos[date_condition & product_condition]\n",
        "print (filtered_df)"
      ],
      "metadata": {
        "id": "1qcFCPiPhIeL"
      },
      "execution_count": null,
      "outputs": []
    }
  ]
}